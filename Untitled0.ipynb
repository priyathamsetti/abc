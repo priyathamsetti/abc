{
  "nbformat": 4,
  "nbformat_minor": 0,
  "metadata": {
    "colab": {
      "provenance": [],
      "include_colab_link": true
    },
    "kernelspec": {
      "name": "python3",
      "display_name": "Python 3"
    },
    "language_info": {
      "name": "python"
    }
  },
  "cells": [
    {
      "cell_type": "markdown",
      "metadata": {
        "id": "view-in-github",
        "colab_type": "text"
      },
      "source": [
        "<a href=\"https://colab.research.google.com/github/priyathamsetti/abc/blob/main/Untitled0.ipynb\" target=\"_parent\"><img src=\"https://colab.research.google.com/assets/colab-badge.svg\" alt=\"Open In Colab\"/></a>"
      ]
    },
    {
      "cell_type": "code",
      "source": [
        "import nltk\n",
        "lookup_dict = {'EC': 'European Commission', 'EU': 'European Union', \"ECSC\": \"EuropeanCoal and Steel Commuinty\",\"EEC\": \"European Economic Community\"}\n",
        "def _lookup_words(input_text):\n",
        "  words = input_text.split()\n",
        "  new_words = []\n",
        "  for word in words:\n",
        "   if word.lower() in lookup_dict:\n",
        "     word = lookup_dict[word.lower()]\n",
        "   new_words.append(word)\n",
        "   new_text = \" \".join(new_words)\n",
        "  print(new_text)\n",
        "  return new_text\n",
        "_lookup_words(\"The High Authority was the supranational administrative executive of the new European Coal and Steel Community ECSC. It took office first on 10 August 1952 in Luxembourg. In 1958, the Treaties of Rome had established two new communities alongside the ECSC: the eec and the European Atomic Energy Community (Euratom). However their executives were called Commissions rather than High Authorities\")\n"
      ],
      "metadata": {
        "id": "rhqMF-PhoGLE",
        "colab": {
          "base_uri": "https://localhost:8080/",
          "height": 108
        },
        "outputId": "0177e9c2-fa68-47dc-f3fb-af4515636ed7"
      },
      "execution_count": 1,
      "outputs": [
        {
          "output_type": "stream",
          "name": "stdout",
          "text": [
            "The High Authority was the supranational administrative executive of the new European Coal and Steel Community ECSC. It took office first on 10 August 1952 in Luxembourg. In 1958, the Treaties of Rome had established two new communities alongside the ECSC: the eec and the European Atomic Energy Community (Euratom). However their executives were called Commissions rather than High Authorities\n"
          ]
        },
        {
          "output_type": "execute_result",
          "data": {
            "text/plain": [
              "'The High Authority was the supranational administrative executive of the new European Coal and Steel Community ECSC. It took office first on 10 August 1952 in Luxembourg. In 1958, the Treaties of Rome had established two new communities alongside the ECSC: the eec and the European Atomic Energy Community (Euratom). However their executives were called Commissions rather than High Authorities'"
            ],
            "application/vnd.google.colaboratory.intrinsic+json": {
              "type": "string"
            }
          },
          "metadata": {},
          "execution_count": 1
        }
      ]
    },
    {
      "cell_type": "code",
      "source": [
        "import gensim\n",
        "from gensim import corpora"
      ],
      "metadata": {
        "id": "qeewRdnOuC0b"
      },
      "execution_count": 2,
      "outputs": []
    },
    {
      "cell_type": "code",
      "source": [
        "documents = [['apple', 'banana', 'fruits'], ['bought', 'bicycle', 'recently', 'less',\n",
        "'two', 'years', 'buy', 'bike'],['colour', 'apple', 'bicycle', 'red']]\n",
        "mapping =corpora.Dictionary(documents)\n",
        "data = [mapping.doc2bow(word) for word in documents]"
      ],
      "metadata": {
        "id": "jA5WR7Cx3leW"
      },
      "execution_count": 3,
      "outputs": []
    },
    {
      "cell_type": "code",
      "source": [
        "topics = ldamodel.show_topics()\n",
        "print(topics)\n"
      ],
      "metadata": {
        "colab": {
          "base_uri": "https://localhost:8080/"
        },
        "id": "1pJo5i0pvbs0",
        "outputId": "de6ce266-33b0-4b2b-c4eb-4a5e0dbbf144"
      },
      "execution_count": 6,
      "outputs": [
        {
          "output_type": "stream",
          "name": "stdout",
          "text": [
            "[(0, '0.136*\"bicycle\" + 0.082*\"two\" + 0.082*\"years\" + 0.082*\"less\" + 0.082*\"bought\" + 0.082*\"buy\" + 0.082*\"recently\" + 0.082*\"bike\" + 0.081*\"colour\" + 0.081*\"red\"'), (1, '0.169*\"apple\" + 0.153*\"banana\" + 0.153*\"fruits\" + 0.054*\"red\" + 0.054*\"colour\" + 0.053*\"bicycle\" + 0.052*\"bike\" + 0.052*\"recently\" + 0.052*\"buy\" + 0.052*\"bought\"')]\n"
          ]
        }
      ]
    },
    {
      "cell_type": "code",
      "source": [
        "print(ldamodel.get_document_topics(data[0]))"
      ],
      "metadata": {
        "colab": {
          "base_uri": "https://localhost:8080/"
        },
        "id": "zFoqLiOwvhDs",
        "outputId": "56a2c527-7ee4-42da-9564-fb12f2b6220f"
      },
      "execution_count": 7,
      "outputs": [
        {
          "output_type": "stream",
          "name": "stdout",
          "text": [
            "[(0, 0.1321162), (1, 0.8678838)]\n"
          ]
        }
      ]
    },
    {
      "cell_type": "code",
      "source": [
        "data"
      ],
      "metadata": {
        "colab": {
          "base_uri": "https://localhost:8080/"
        },
        "id": "P14BpahevNVM",
        "outputId": "3343dc54-1d1a-4c72-8151-0e6d72f0d0a1"
      },
      "execution_count": 4,
      "outputs": [
        {
          "output_type": "execute_result",
          "data": {
            "text/plain": [
              "[[(0, 1), (1, 1), (2, 1)],\n",
              " [(3, 1), (4, 1), (5, 1), (6, 1), (7, 1), (8, 1), (9, 1), (10, 1)],\n",
              " [(0, 1), (3, 1), (11, 1), (12, 1)]]"
            ]
          },
          "metadata": {},
          "execution_count": 4
        }
      ]
    },
    {
      "cell_type": "code",
      "source": [
        "ldamodel = gensim.models.ldamodel.LdaModel(data, num_topics=2,id2word=mapping, passes=15)\n"
      ],
      "metadata": {
        "id": "RYUiam5YvTwu"
      },
      "execution_count": 5,
      "outputs": []
    }
  ]
}